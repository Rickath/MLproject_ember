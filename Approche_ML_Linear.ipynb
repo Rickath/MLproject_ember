{
 "cells": [
  {
   "cell_type": "markdown",
   "id": "df24c775-e846-4aa9-a9e8-00dc333fa442",
   "metadata": {},
   "source": [
    "# Projet ML du cours SEC201\n",
    "- Dataset : [rep Github EMBER](https://github.com/elastic/ember) et [article décrivant le dataset](https://arxiv.org/pdf/1804.04637.pdf)\n",
    "- Descripteurs : features statiques (informations fichier PE)\n",
    "- Modèles : différentes approches supervisées \n",
    "    - Arbre de décision\n",
    "    - Bagging Tree\n",
    "    - Forêt aléatoire\n",
    "    - KNN\n",
    "    - régression\n",
    "    - SVM SVC..."
   ]
  },
  {
   "cell_type": "code",
   "execution_count": 1,
   "id": "9fb8bb0d-4a30-4688-9443-7dd7a05ca716",
   "metadata": {},
   "outputs": [],
   "source": [
    "import os\n",
    "import ember\n",
    "import numpy as np\n",
    "import pandas as pd\n",
    "import matplotlib.pylab as plt\n",
    "from sklearn.metrics import roc_auc_score, roc_curve, auc\n",
    "from sklearn.metrics import confusion_matrix\n",
    "from pickle import load\n",
    "from pickle import dump\n",
    "from joblib import parallel_backend\n",
    "import time"
   ]
  },
  {
   "cell_type": "code",
   "execution_count": 2,
   "id": "f47bdfe1-fada-4480-b9aa-7f8dfa329433",
   "metadata": {},
   "outputs": [],
   "source": [
    "data_dir = \"../ember2018\" #Le dossier contenant les données"
   ]
  },
  {
   "cell_type": "code",
   "execution_count": 3,
   "id": "2b3a292c-d24b-4c23-9c99-8ea4856eeae2",
   "metadata": {},
   "outputs": [],
   "source": [
    "#ember.create_vectorized_features(data_dir,2) #Création des features vectorisées à partir des fichiers de données : ne doit être fait qu'une fois"
   ]
  },
  {
   "cell_type": "code",
   "execution_count": 4,
   "id": "198cbeb8-2bdd-4b90-9338-999901c05490",
   "metadata": {},
   "outputs": [],
   "source": [
    "#ember.create_metadata(data_dir) #Création des métadonnées : ne doit être fait qu'une fois"
   ]
  },
  {
   "cell_type": "code",
   "execution_count": 3,
   "id": "5e8f9342-1021-4410-a661-b8381bd5ff81",
   "metadata": {},
   "outputs": [
    {
     "name": "stdout",
     "output_type": "stream",
     "text": [
      "WARNING: EMBER feature version 2 were computed using lief version 0.9.0-\n",
      "WARNING:   lief version 0.12.1-c7b3ce3b found instead. There may be slight inconsistencies\n",
      "WARNING:   in the feature calculations.\n"
     ]
    }
   ],
   "source": [
    "# emberdf = ember.read_metadata(data_dir)\n",
    "X_train, y_train, X_test, y_test = ember.read_vectorized_features(data_dir, feature_version=2) # Chargement des datasets d'entraînement et de test"
   ]
  },
  {
   "cell_type": "code",
   "execution_count": 4,
   "id": "ac425068-7607-4de5-91d0-ac5c073bbb96",
   "metadata": {},
   "outputs": [
    {
     "name": "stdout",
     "output_type": "stream",
     "text": [
      "Nombre d'observations (qui représentent un software) : 800000\n",
      "Nombre de descripteurs : 2381\n"
     ]
    }
   ],
   "source": [
    "print(f\"Nombre d'observations (qui représentent un software) : {np.size(X_train,0)}\")\n",
    "print(f\"Nombre de descripteurs : {np.size(X_train,1)}\")"
   ]
  },
  {
   "cell_type": "code",
   "execution_count": 5,
   "id": "148f6040-7a65-4b3d-b55c-c34562818e55",
   "metadata": {},
   "outputs": [
    {
     "name": "stdout",
     "output_type": "stream",
     "text": [
      "Nombre d'observations après suppr des non labellisées : 600000\n",
      "Temps d'exe de la cellule : 3.326746940612793\n"
     ]
    }
   ],
   "source": [
    "#On va supprimer les observations qui ne sont pas labellisées (200K qui sont à visée de semi-supervisé, qu'on ne traitera pas dans le cadre de ce projet)\n",
    "start = time.time()\n",
    "train_filter = np.where((y_train==0.) | (y_train==1.))\n",
    "X_train, y_train = X_train[train_filter], y_train[train_filter]\n",
    "print(f\"Nombre d'observations après suppr des non labellisées : {np.size(X_train,0)}\")\n",
    "end = time.time()\n",
    "print(f\"Temps d'exe de la cellule : {end - start}\")"
   ]
  },
  {
   "cell_type": "code",
   "execution_count": 8,
   "id": "f9a4d68b-3942-45c7-a02f-9f15e0ff05ed",
   "metadata": {},
   "outputs": [
    {
     "name": "stdout",
     "output_type": "stream",
     "text": [
      "Nombre d'observations après tirage aléatoire : 50000\n"
     ]
    }
   ],
   "source": [
    "# #On va prendre un subset des données d'entraînement : 600K c'est trop lourd pour ma \"petite bécane\" sur certains modèles (typiquement SVM), on sélectionne un échantillon de 50K observations\n",
    "# tirage = np.random.choice(600000,50000,replace=False)\n",
    "# X_train_sub, y_train_sub = X_train[tirage], y_train[tirage]\n",
    "# print(f\"Nombre d'observations après tirage aléatoire : {np.size(X_train_sub,0)}\")"
   ]
  },
  {
   "cell_type": "markdown",
   "id": "d62101c2-7900-4c98-85ef-0d62348a8c17",
   "metadata": {},
   "source": [
    "## Pré traitement : Scaler\n",
    "On va utiliser un scaler pour standardiser les données, qui peut améliorer certaines approches (notamment la convergence de certains modèles de régression linéaire)"
   ]
  },
  {
   "cell_type": "code",
   "execution_count": 9,
   "id": "5ed74f36-5ff3-4ec1-90b7-afc4379a83a8",
   "metadata": {},
   "outputs": [
    {
     "name": "stdout",
     "output_type": "stream",
     "text": [
      "Temps d'exe de la cellule : 24.89741539955139\n"
     ]
    }
   ],
   "source": [
    "# # on va également scale les données pour certaines des approches qui se servent des données standardisées\n",
    "# from sklearn.preprocessing import StandardScaler\n",
    "# start = time.time()\n",
    "# scaler = StandardScaler()\n",
    "# X_train_std = scaler.fit_transform(X_train)\n",
    "# end = time.time()\n",
    "# print(f\"Temps d'exe de la cellule : {end - start}\")"
   ]
  },
  {
   "cell_type": "code",
   "execution_count": 6,
   "id": "fe059c72-f685-44d7-a32b-a668a8d0b478",
   "metadata": {},
   "outputs": [],
   "source": [
    "# #J'exporte le scaler pour pouvoir le récupérer par la suite sans avoir à relancer le calcul...\n",
    "# from pickle import dump\n",
    "# with open('scaler.pkl', 'wb') as handle :\n",
    "#     dump(scaler, handle)\n",
    "\n",
    "# #Commenté pour éviter le lancement par inadvertance"
   ]
  },
  {
   "cell_type": "code",
   "execution_count": 6,
   "id": "6d433a24-6132-4465-955a-614c3a2ba658",
   "metadata": {},
   "outputs": [
    {
     "name": "stdout",
     "output_type": "stream",
     "text": [
      "Temps d'exe de la cellule : 11.244333982467651\n"
     ]
    }
   ],
   "source": [
    "#On importe le scaler depuis le pickle dump si déjà calculé : données d'entraînement\n",
    "start = time.time()\n",
    "with open('scaler.pkl', 'rb') as handle :\n",
    "    scaler = load(handle)\n",
    "X_train_std = scaler.transform(X_train)\n",
    "end = time.time()\n",
    "print(f\"Temps d'exe de la cellule : {end - start}\")"
   ]
  },
  {
   "cell_type": "code",
   "execution_count": 7,
   "id": "f8beee87-3fb5-4e3c-b3f2-ca1b483c9360",
   "metadata": {},
   "outputs": [
    {
     "name": "stdout",
     "output_type": "stream",
     "text": [
      "Temps d'exe de la cellule : 4.162835359573364\n"
     ]
    }
   ],
   "source": [
    "#Scale données de test\n",
    "start = time.time()\n",
    "X_test_std = scaler.transform(X_test)\n",
    "end = time.time()\n",
    "print(f\"Temps d'exe de la cellule : {end - start}\")"
   ]
  },
  {
   "cell_type": "markdown",
   "id": "be65413c-7ddd-4ba8-9110-d4ab32aff5d6",
   "metadata": {},
   "source": [
    "## Appoche arbre de décision\n",
    "On va entraîner un arbre de décision sur les données initiales, sans échantillonage ni standardisation"
   ]
  },
  {
   "cell_type": "code",
   "execution_count": 22,
   "id": "5468aaa7-3a88-4c5c-99df-b3bad1be43bb",
   "metadata": {},
   "outputs": [
    {
     "name": "stdout",
     "output_type": "stream",
     "text": [
      "Temps d'exe de la cellule : 4939.672164916992\n"
     ]
    }
   ],
   "source": [
    "#Decision Tree\n",
    "# Créer et entraîner un classifier de type arbre de décision\n",
    "from sklearn import tree\n",
    "start = time.time()\n",
    "tree_clf = tree.DecisionTreeClassifier()\n",
    "tree_clf.fit(X_train, y_train)\n",
    "end = time.time()\n",
    "print(f\"Temps d'exe de la cellule : {end - start}\")"
   ]
  },
  {
   "cell_type": "markdown",
   "id": "8344634d-58a6-4825-b0aa-e43b8955ed68",
   "metadata": {},
   "source": [
    "*Il faut environ 1h30 pour entraîner ce simple classifier arbre*"
   ]
  },
  {
   "cell_type": "code",
   "execution_count": 23,
   "id": "f867b21c-10a7-49db-9b2a-fcafe246c50d",
   "metadata": {},
   "outputs": [],
   "source": [
    "#J'exporte le modèle pour pouvoir le récupérer par la suite sans avoir à reprocess (éventuellement long)...\n",
    "# from pickle import dump\n",
    "# with open('tree_clf.pkl', 'wb') as handle :\n",
    "#     dump(tree_clf, handle)"
   ]
  },
  {
   "cell_type": "code",
   "execution_count": 24,
   "id": "efec31ad-49ea-4d52-89cc-54f5e21cb3f9",
   "metadata": {},
   "outputs": [],
   "source": [
    "#Importer depuis le dump pickle\n",
    "with open('tree_clf.pkl', 'rb') as handle :\n",
    "    tree_clf = load(handle)"
   ]
  },
  {
   "cell_type": "code",
   "execution_count": 25,
   "id": "74861a33-1207-488a-97ca-b00c819ffeb2",
   "metadata": {},
   "outputs": [
    {
     "name": "stdout",
     "output_type": "stream",
     "text": [
      "Précision de l'abre de décision sur le jeu d'entraînement : 1.0\n",
      "Temps d'exe de la cellule : 2.2456157207489014\n"
     ]
    }
   ],
   "source": [
    "start = time.time()\n",
    "print(f\"Précision de l'abre de décision sur le jeu d'entraînement : {tree_clf.score(X_train,y_train)}\")\n",
    "end = time.time()\n",
    "print(f\"Temps d'exe de la cellule : {end - start}\")"
   ]
  },
  {
   "cell_type": "code",
   "execution_count": 26,
   "id": "bb2e8a55-2925-4a05-8079-37dd3e885a3d",
   "metadata": {},
   "outputs": [
    {
     "name": "stdout",
     "output_type": "stream",
     "text": [
      "Précision de l'abre de décision : 0.91852\n",
      "Temps d'exe de la cellule : 1.1967732906341553\n"
     ]
    }
   ],
   "source": [
    "start = time.time()\n",
    "pred =tree_clf.predict(X_test)\n",
    "print(f\"Précision de l'abre de décision : {tree_clf.score(X_test,y_test)}\")\n",
    "end = time.time()\n",
    "print(f\"Temps d'exe de la cellule : {end - start}\")"
   ]
  },
  {
   "cell_type": "markdown",
   "id": "2ddd0f6f-83f5-4676-bb1b-cd626d274157",
   "metadata": {},
   "source": [
    "La précision du classifier arbre de décision entraîné sur EMBER donne une précision d'environ 92 % sur l'échantillon test (200K observations, dont 100K malveillants et 100K bénins).\n",
    "Le fait qu'on ait 100% de classif sur l'échantillon initial peut laisser penser à un peu d'overfitting, il n'est pas impossible qu'on puisse améliorer les perfs sur l'échantillon de test en réduisant la taille de l'arbre de décision qu'on produit. Mais il semble plus intéressant de se pencher sur d'autres techniques (Bagging et random forest)"
   ]
  },
  {
   "cell_type": "code",
   "execution_count": 27,
   "id": "ca4ad153-ca41-418d-ab49-cb02fb64fb30",
   "metadata": {},
   "outputs": [
    {
     "name": "stdout",
     "output_type": "stream",
     "text": [
      "Matrice de confusion : [[0.4604  0.0396 ]\n",
      " [0.04188 0.45812]]\n",
      "Sensibilité : 0.91624\n",
      "Spécificité : 0.9208\n",
      "Valeur prédictive positive : 0.9204371936028289\n",
      "Valeur prédictive négative : 0.9166202118340367\n",
      "Taux de faux positifs (1-spécificité) : 0.0792\n",
      "Taux de faux négatifs (1-sensbilité) : 0.08376\n",
      "Taux de précision : 0.91852\n"
     ]
    }
   ],
   "source": [
    "cf_matrix = confusion_matrix(y_test, pred)\n",
    "vn, fp, fn, vp = cf_matrix.ravel()\n",
    "print(f\"Matrice de confusion : {cf_matrix/np.sum(cf_matrix)}\")\n",
    "print(f\"Sensibilité : {vp/(vp+fn)}\")\n",
    "print(f\"Spécificité : {vn/(vn+fp)}\")\n",
    "print(f\"Valeur prédictive positive : {vp/(vp+fp)}\")\n",
    "print(f\"Valeur prédictive négative : {vn/(vn+fn)}\")\n",
    "print(f\"Taux de faux positifs (1-spécificité) : {fp/(vn+fp)}\")\n",
    "print(f\"Taux de faux négatifs (1-sensbilité) : {fn/(vp+fn)}\")\n",
    "\n",
    "# Lecture : \n",
    "# Vrai négatif, Faux positif\n",
    "# Faux négatif, Vrai positif\n",
    "print(f\"Taux de précision : {(cf_matrix[0][0]+cf_matrix[1][1])/np.sum(cf_matrix)}\")"
   ]
  },
  {
   "cell_type": "markdown",
   "id": "35519b80-844c-4bb1-b289-705af7f9b062",
   "metadata": {},
   "source": [
    "Les perfs du modèle simple arbre sont assez \"bonnes\" : 8% de faux positifs (c'est beaucoup de fausses alertes pour du malware) et 8% de faux négatifs (ça laisse passer trop de malware sans les détecter)"
   ]
  },
  {
   "cell_type": "code",
   "execution_count": 22,
   "id": "be330edb-976f-484c-b6f7-3e40a0ddb5fb",
   "metadata": {},
   "outputs": [
    {
     "name": "stdout",
     "output_type": "stream",
     "text": [
      "164\n"
     ]
    }
   ],
   "source": [
    "# Profondeur de notre arbre ?\n",
    "print(tree_clf.tree_.max_depth)\n",
    "# 164 : très profond, comme on l'a évoqué, très vraisemblable surapprentissage..."
   ]
  },
  {
   "cell_type": "markdown",
   "id": "a3753ab7-f8df-4428-b578-92b41186e337",
   "metadata": {},
   "source": [
    "## Mauvaise approche : essayer de travailler sur les données sandardisées pour l'arbre de décision : on perd en performance"
   ]
  },
  {
   "cell_type": "code",
   "execution_count": 18,
   "id": "b9e60942-c234-4379-94fd-9ef741411044",
   "metadata": {},
   "outputs": [
    {
     "name": "stdout",
     "output_type": "stream",
     "text": [
      "Temps d'exe de la cellule : 149.49361395835876\n"
     ]
    }
   ],
   "source": [
    "# #Decision Tree\n",
    "# # Créer et entraîner un classifier de type arbre de décision sur les données scaled\n",
    "# from sklearn import tree\n",
    "# start = time.time()\n",
    "# tree_clf = tree.DecisionTreeClassifier()\n",
    "# tree_clf.fit(X_train_sub_std, y_train_sub)\n",
    "# end = time.time()\n",
    "# print(f\"Temps d'exe de la cellule : {end - start}\")"
   ]
  },
  {
   "cell_type": "code",
   "execution_count": 19,
   "id": "58143cbd-db9d-402e-b7a5-2bd16f43f898",
   "metadata": {},
   "outputs": [
    {
     "name": "stdout",
     "output_type": "stream",
     "text": [
      "Précision de l'abre de décision sur le jeu d'entraînement : 0.69372\n",
      "Temps d'exe de la cellule : 1.588580846786499\n"
     ]
    }
   ],
   "source": [
    "# start = time.time()\n",
    "# print(f\"Précision de l'abre de décision sur le jeu d'entraînement : {tree_clf.score(X_train,y_train)}\")\n",
    "# end = time.time()\n",
    "# print(f\"Temps d'exe de la cellule : {end - start}\")"
   ]
  },
  {
   "cell_type": "code",
   "execution_count": 20,
   "id": "6e9f9d1b-2703-4713-a398-a0c99e881de2",
   "metadata": {},
   "outputs": [
    {
     "name": "stdout",
     "output_type": "stream",
     "text": [
      "Précision de l'abre de décision : 0.64223\n",
      "Temps d'exe de la cellule : 0.9692666530609131\n"
     ]
    }
   ],
   "source": [
    "# start = time.time()\n",
    "# pred =tree_clf.predict(X_test)\n",
    "# print(f\"Précision de l'abre de décision : {tree_clf.score(X_test,y_test)}\")\n",
    "# end = time.time()\n",
    "# print(f\"Temps d'exe de la cellule : {end - start}\")"
   ]
  },
  {
   "cell_type": "code",
   "execution_count": 21,
   "id": "627153ab-2f70-4c2a-9fe1-cbe4c0d3bd94",
   "metadata": {},
   "outputs": [
    {
     "name": "stdout",
     "output_type": "stream",
     "text": [
      "Matrice de confusion : [[0.18739 0.31261]\n",
      " [0.04516 0.45484]]\n",
      "Sensibilité : 0.90968\n",
      "Spécificité : 0.37478\n",
      "Valeur prédictive positive : 0.5926640171998175\n",
      "Valeur prédictive négative : 0.8058052031821114\n",
      "Taux de faux positifs (1-spécificité) : 0.62522\n",
      "Taux de faux négatifs (1-sensbilité) : 0.09032\n",
      "Taux de précision : 0.64223\n"
     ]
    }
   ],
   "source": [
    "# from sklearn.metrics import confusion_matrix\n",
    "# cf_matrix = confusion_matrix(y_test, pred)\n",
    "# vn, fp, fn, vp = cf_matrix.ravel()\n",
    "# print(f\"Matrice de confusion : {cf_matrix/np.sum(cf_matrix)}\")\n",
    "# print(f\"Sensibilité : {vp/(vp+fn)}\")\n",
    "# print(f\"Spécificité : {vn/(vn+fp)}\")\n",
    "# print(f\"Valeur prédictive positive : {vp/(vp+fp)}\")\n",
    "# print(f\"Valeur prédictive négative : {vn/(vn+fn)}\")\n",
    "# print(f\"Taux de faux positifs (1-spécificité) : {fp/(vn+fp)}\")\n",
    "# print(f\"Taux de faux négatifs (1-sensbilité) : {fn/(vp+fn)}\")\n",
    "\n",
    "# # Lecture : \n",
    "# # Vrai négatif, Faux positif\n",
    "# # Faux négatif, Vrai positif\n",
    "# print(f\"Taux de précision : {(cf_matrix[0][0]+cf_matrix[1][1])/np.sum(cf_matrix)}\")"
   ]
  },
  {
   "cell_type": "markdown",
   "id": "ed68ee53-9aac-4755-bd47-9fceb4406584",
   "metadata": {},
   "source": [
    "## Appoche Bagging tree\n",
    "On va entraîner un bagging tree sur les données initiales, sans échantillonage ni standardisation"
   ]
  },
  {
   "cell_type": "code",
   "execution_count": 13,
   "id": "b3813d9e-d029-4e6e-87ab-713b660860af",
   "metadata": {},
   "outputs": [
    {
     "name": "stderr",
     "output_type": "stream",
     "text": [
      "[Parallel(n_jobs=4)]: Using backend ThreadingBackend with 4 concurrent workers.\n"
     ]
    },
    {
     "name": "stdout",
     "output_type": "stream",
     "text": [
      "Building estimator 1 of 25 for this parallel run (total 100)...Building estimator 1 of 25 for this parallel run (total 100)...\n",
      "Building estimator 1 of 25 for this parallel run (total 100)...\n",
      "Building estimator 1 of 25 for this parallel run (total 100)...\n",
      "\n",
      "Building estimator 2 of 25 for this parallel run (total 100)...\n",
      "Building estimator 2 of 25 for this parallel run (total 100)...\n",
      "Building estimator 2 of 25 for this parallel run (total 100)...\n",
      "Building estimator 2 of 25 for this parallel run (total 100)...\n",
      "Building estimator 3 of 25 for this parallel run (total 100)...\n",
      "Building estimator 3 of 25 for this parallel run (total 100)...\n",
      "Building estimator 3 of 25 for this parallel run (total 100)...\n",
      "Building estimator 3 of 25 for this parallel run (total 100)...\n",
      "Building estimator 4 of 25 for this parallel run (total 100)...\n",
      "Building estimator 4 of 25 for this parallel run (total 100)...\n",
      "Building estimator 4 of 25 for this parallel run (total 100)...\n",
      "Building estimator 4 of 25 for this parallel run (total 100)...\n",
      "Building estimator 5 of 25 for this parallel run (total 100)...\n",
      "Building estimator 5 of 25 for this parallel run (total 100)...\n",
      "Building estimator 5 of 25 for this parallel run (total 100)...\n",
      "Building estimator 5 of 25 for this parallel run (total 100)...\n",
      "Building estimator 6 of 25 for this parallel run (total 100)...\n",
      "Building estimator 6 of 25 for this parallel run (total 100)...\n",
      "Building estimator 6 of 25 for this parallel run (total 100)...\n",
      "Building estimator 6 of 25 for this parallel run (total 100)...\n",
      "Building estimator 7 of 25 for this parallel run (total 100)...\n",
      "Building estimator 7 of 25 for this parallel run (total 100)...\n",
      "Building estimator 7 of 25 for this parallel run (total 100)...\n",
      "Building estimator 7 of 25 for this parallel run (total 100)...\n",
      "Building estimator 8 of 25 for this parallel run (total 100)...\n",
      "Building estimator 8 of 25 for this parallel run (total 100)...\n",
      "Building estimator 8 of 25 for this parallel run (total 100)...\n",
      "Building estimator 8 of 25 for this parallel run (total 100)...\n",
      "Building estimator 9 of 25 for this parallel run (total 100)...\n",
      "Building estimator 9 of 25 for this parallel run (total 100)...\n",
      "Building estimator 9 of 25 for this parallel run (total 100)...\n",
      "Building estimator 9 of 25 for this parallel run (total 100)...\n",
      "Building estimator 10 of 25 for this parallel run (total 100)...\n",
      "Building estimator 10 of 25 for this parallel run (total 100)...\n",
      "Building estimator 10 of 25 for this parallel run (total 100)...\n",
      "Building estimator 10 of 25 for this parallel run (total 100)...\n",
      "Building estimator 11 of 25 for this parallel run (total 100)...\n",
      "Building estimator 11 of 25 for this parallel run (total 100)...\n",
      "Building estimator 11 of 25 for this parallel run (total 100)...\n",
      "Building estimator 11 of 25 for this parallel run (total 100)...\n",
      "Building estimator 12 of 25 for this parallel run (total 100)...\n",
      "Building estimator 12 of 25 for this parallel run (total 100)...\n",
      "Building estimator 12 of 25 for this parallel run (total 100)...\n",
      "Building estimator 12 of 25 for this parallel run (total 100)...\n",
      "Building estimator 13 of 25 for this parallel run (total 100)...\n",
      "Building estimator 13 of 25 for this parallel run (total 100)...\n",
      "Building estimator 13 of 25 for this parallel run (total 100)...\n",
      "Building estimator 13 of 25 for this parallel run (total 100)...\n",
      "Building estimator 14 of 25 for this parallel run (total 100)...\n",
      "Building estimator 14 of 25 for this parallel run (total 100)...\n",
      "Building estimator 14 of 25 for this parallel run (total 100)...\n",
      "Building estimator 14 of 25 for this parallel run (total 100)...\n",
      "Building estimator 15 of 25 for this parallel run (total 100)...\n",
      "Building estimator 15 of 25 for this parallel run (total 100)...\n",
      "Building estimator 15 of 25 for this parallel run (total 100)...\n",
      "Building estimator 15 of 25 for this parallel run (total 100)...\n",
      "Building estimator 16 of 25 for this parallel run (total 100)...\n",
      "Building estimator 16 of 25 for this parallel run (total 100)...\n",
      "Building estimator 16 of 25 for this parallel run (total 100)...\n",
      "Building estimator 16 of 25 for this parallel run (total 100)...\n",
      "Building estimator 17 of 25 for this parallel run (total 100)...\n",
      "Building estimator 17 of 25 for this parallel run (total 100)...\n",
      "Building estimator 17 of 25 for this parallel run (total 100)...\n",
      "Building estimator 17 of 25 for this parallel run (total 100)...\n",
      "Building estimator 18 of 25 for this parallel run (total 100)...\n",
      "Building estimator 18 of 25 for this parallel run (total 100)...\n",
      "Building estimator 18 of 25 for this parallel run (total 100)...\n",
      "Building estimator 18 of 25 for this parallel run (total 100)...\n",
      "Building estimator 19 of 25 for this parallel run (total 100)...\n",
      "Building estimator 19 of 25 for this parallel run (total 100)...\n",
      "Building estimator 19 of 25 for this parallel run (total 100)...\n",
      "Building estimator 19 of 25 for this parallel run (total 100)...\n",
      "Building estimator 20 of 25 for this parallel run (total 100)...\n",
      "Building estimator 20 of 25 for this parallel run (total 100)...\n",
      "Building estimator 20 of 25 for this parallel run (total 100)...\n",
      "Building estimator 20 of 25 for this parallel run (total 100)...\n",
      "Building estimator 21 of 25 for this parallel run (total 100)...\n",
      "Building estimator 21 of 25 for this parallel run (total 100)...\n",
      "Building estimator 21 of 25 for this parallel run (total 100)...\n",
      "Building estimator 21 of 25 for this parallel run (total 100)...\n",
      "Building estimator 22 of 25 for this parallel run (total 100)...\n",
      "Building estimator 22 of 25 for this parallel run (total 100)...\n",
      "Building estimator 22 of 25 for this parallel run (total 100)...\n",
      "Building estimator 22 of 25 for this parallel run (total 100)...\n",
      "Building estimator 23 of 25 for this parallel run (total 100)...\n",
      "Building estimator 23 of 25 for this parallel run (total 100)...\n",
      "Building estimator 23 of 25 for this parallel run (total 100)...\n",
      "Building estimator 23 of 25 for this parallel run (total 100)...\n",
      "Building estimator 24 of 25 for this parallel run (total 100)...\n",
      "Building estimator 24 of 25 for this parallel run (total 100)...\n",
      "Building estimator 24 of 25 for this parallel run (total 100)...\n",
      "Building estimator 24 of 25 for this parallel run (total 100)...\n",
      "Building estimator 25 of 25 for this parallel run (total 100)...\n",
      "Building estimator 25 of 25 for this parallel run (total 100)...\n",
      "Building estimator 25 of 25 for this parallel run (total 100)...\n",
      "Building estimator 25 of 25 for this parallel run (total 100)...\n"
     ]
    },
    {
     "name": "stderr",
     "output_type": "stream",
     "text": [
      "[Parallel(n_jobs=4)]: Done   4 out of   4 | elapsed: 206.4min finished\n"
     ]
    },
    {
     "name": "stdout",
     "output_type": "stream",
     "text": [
      "Temps d'exe de la cellule : 12386.875077486038\n"
     ]
    }
   ],
   "source": [
    "# Approche bagging tree\n",
    "from sklearn import tree\n",
    "from sklearn.ensemble import BaggingClassifier\n",
    "start = time.time()\n",
    "with parallel_backend('threading', n_jobs=4):\n",
    "    bag_clf = BaggingClassifier(tree.DecisionTreeClassifier(), max_samples=1/6, n_estimators=100,verbose=3)\n",
    "    bag_clf.fit(X_train, y_train)\n",
    "end = time.time()\n",
    "print(f\"Temps d'exe de la cellule : {end - start}\")"
   ]
  },
  {
   "cell_type": "code",
   "execution_count": 17,
   "id": "8632b364-4d81-4cff-a6a2-d4e187a2ce4f",
   "metadata": {},
   "outputs": [],
   "source": [
    "# #J'exporte le modèle pour pouvoir le récupérer par la suite sans avoir à reprocess (éventuellement long)...\n",
    "# from pickle import dump\n",
    "# with open('bag_clf.pkl', 'wb') as handle :\n",
    "#     dump(bag_clf, handle)\n",
    "\n",
    "# #Commenté pour éviter le lancement par erreur"
   ]
  },
  {
   "cell_type": "code",
   "execution_count": null,
   "id": "57e40560-7e27-457b-95fa-cb9d7dd3710f",
   "metadata": {},
   "outputs": [],
   "source": [
    "# #Importer depuis le dump pickle\n",
    "# from pickle import load\n",
    "# with open('bag_clf.pkl', 'rb') as handle :\n",
    "#     bag_clf = load(handle)\n",
    "\n",
    "# #Commenté pour éviter le lancement par erreur"
   ]
  },
  {
   "cell_type": "code",
   "execution_count": 14,
   "id": "fb02c68f-d434-4449-b1e9-c6e1ddd8bc47",
   "metadata": {},
   "outputs": [
    {
     "name": "stderr",
     "output_type": "stream",
     "text": [
      "[Parallel(n_jobs=4)]: Using backend ThreadingBackend with 4 concurrent workers.\n",
      "[Parallel(n_jobs=4)]: Done   4 out of   4 | elapsed: 15.8min finished\n"
     ]
    },
    {
     "name": "stdout",
     "output_type": "stream",
     "text": [
      "Précision de du classifier bagging sur le jeu d'entraînement : 0.9777716666666667\n",
      "Temps d'exe de la cellule : 950.2855126857758\n"
     ]
    }
   ],
   "source": [
    "start = time.time()\n",
    "with parallel_backend('threading', n_jobs=4):\n",
    "    print(f\"Précision de du classifier bagging sur le jeu d'entraînement : {bag_clf.score(X_train,y_train)}\")\n",
    "end = time.time()\n",
    "print(f\"Temps d'exe de la cellule : {end - start}\")"
   ]
  },
  {
   "cell_type": "code",
   "execution_count": 15,
   "id": "030c4753-de3b-4883-b77a-691a9bebf9c2",
   "metadata": {},
   "outputs": [
    {
     "name": "stderr",
     "output_type": "stream",
     "text": [
      "[Parallel(n_jobs=4)]: Using backend ThreadingBackend with 4 concurrent workers.\n"
     ]
    },
    {
     "name": "stdout",
     "output_type": "stream",
     "text": [
      "Temps d'exe de la cellule : 646.1313645839691\n"
     ]
    },
    {
     "name": "stderr",
     "output_type": "stream",
     "text": [
      "[Parallel(n_jobs=4)]: Done   4 out of   4 | elapsed: 10.8min finished\n"
     ]
    }
   ],
   "source": [
    "start = time.time()\n",
    "with parallel_backend('threading', n_jobs=4):\n",
    "    pred =bag_clf.predict(X_test)\n",
    "end = time.time()\n",
    "print(f\"Temps d'exe de la cellule : {end - start}\")"
   ]
  },
  {
   "cell_type": "code",
   "execution_count": 16,
   "id": "dc0456ec-0558-4adc-963f-0a32153303be",
   "metadata": {},
   "outputs": [
    {
     "name": "stdout",
     "output_type": "stream",
     "text": [
      "Matrice de confusion : [[0.47193  0.02807 ]\n",
      " [0.027525 0.472475]]\n",
      "Sensibilité : 0.94495\n",
      "Spécificité : 0.94386\n",
      "Valeur prédictive positive : 0.9439211259726897\n",
      "Valeur prédictive négative : 0.9448899300237259\n",
      "Taux de faux positifs (1-spécificité) : 0.05614\n",
      "Taux de faux négatifs (1-sensbilité) : 0.05505\n",
      "Taux de précision : 0.944405\n"
     ]
    }
   ],
   "source": [
    "cf_matrix = confusion_matrix(y_test, pred)\n",
    "vn, fp, fn, vp = cf_matrix.ravel()\n",
    "print(f\"Matrice de confusion : {cf_matrix/np.sum(cf_matrix)}\")\n",
    "print(f\"Sensibilité : {vp/(vp+fn)}\")\n",
    "print(f\"Spécificité : {vn/(vn+fp)}\")\n",
    "print(f\"Valeur prédictive positive : {vp/(vp+fp)}\")\n",
    "print(f\"Valeur prédictive négative : {vn/(vn+fn)}\")\n",
    "print(f\"Taux de faux positifs (1-spécificité) : {fp/(vn+fp)}\")\n",
    "print(f\"Taux de faux négatifs (1-sensbilité) : {fn/(vp+fn)}\")\n",
    "\n",
    "# Lecture : \n",
    "# Vrai négatif, Faux positif\n",
    "# Faux négatif, Vrai positif\n",
    "print(f\"Taux de précision : {(cf_matrix[0][0]+cf_matrix[1][1])/np.sum(cf_matrix)}\")\n",
    "\n",
    "#On a un taux de précision d'environ 96% avec le bagging : on s'améliore encore, vraiment pas mal\n",
    "#Le taux de faux positifs de faux négatifs (i.e. les malwares qu'on laisse passer) est proche : environ 4,5 %. Ca reste élevé pour de la vraie détection"
   ]
  },
  {
   "cell_type": "markdown",
   "id": "609eb4fd-bf63-4588-b7bb-953f95136ed4",
   "metadata": {},
   "source": [
    "## Approche Forêt aléatoire"
   ]
  },
  {
   "cell_type": "code",
   "execution_count": 16,
   "id": "b41682d4-b03a-49ed-a637-23cf17fbb57e",
   "metadata": {},
   "outputs": [
    {
     "name": "stderr",
     "output_type": "stream",
     "text": [
      "[Parallel(n_jobs=1)]: Using backend SequentialBackend with 1 concurrent workers.\n"
     ]
    },
    {
     "name": "stdout",
     "output_type": "stream",
     "text": [
      "building tree 1 of 200\n"
     ]
    },
    {
     "name": "stderr",
     "output_type": "stream",
     "text": [
      "[Parallel(n_jobs=1)]: Done   1 out of   1 | elapsed:   23.9s remaining:    0.0s\n"
     ]
    },
    {
     "name": "stdout",
     "output_type": "stream",
     "text": [
      "building tree 2 of 200\n"
     ]
    },
    {
     "name": "stderr",
     "output_type": "stream",
     "text": [
      "[Parallel(n_jobs=1)]: Done   2 out of   2 | elapsed:  1.0min remaining:    0.0s\n"
     ]
    },
    {
     "name": "stdout",
     "output_type": "stream",
     "text": [
      "building tree 3 of 200\n",
      "building tree 4 of 200\n",
      "building tree 5 of 200\n",
      "building tree 6 of 200\n",
      "building tree 7 of 200\n",
      "building tree 8 of 200\n",
      "building tree 9 of 200\n",
      "building tree 10 of 200\n",
      "building tree 11 of 200\n",
      "building tree 12 of 200\n",
      "building tree 13 of 200\n",
      "building tree 14 of 200\n",
      "building tree 15 of 200\n",
      "building tree 16 of 200\n",
      "building tree 17 of 200\n",
      "building tree 18 of 200\n",
      "building tree 19 of 200\n",
      "building tree 20 of 200\n",
      "building tree 21 of 200\n",
      "building tree 22 of 200\n",
      "building tree 23 of 200\n",
      "building tree 24 of 200\n",
      "building tree 25 of 200\n",
      "building tree 26 of 200\n",
      "building tree 27 of 200\n",
      "building tree 28 of 200\n",
      "building tree 29 of 200\n",
      "building tree 30 of 200\n",
      "building tree 31 of 200\n",
      "building tree 32 of 200\n",
      "building tree 33 of 200\n",
      "building tree 34 of 200\n",
      "building tree 35 of 200\n",
      "building tree 36 of 200\n",
      "building tree 37 of 200\n",
      "building tree 38 of 200\n",
      "building tree 39 of 200\n",
      "building tree 40 of 200\n",
      "building tree 41 of 200\n",
      "building tree 42 of 200\n",
      "building tree 43 of 200\n",
      "building tree 44 of 200\n",
      "building tree 45 of 200\n",
      "building tree 46 of 200\n",
      "building tree 47 of 200\n",
      "building tree 48 of 200\n",
      "building tree 49 of 200\n",
      "building tree 50 of 200\n",
      "building tree 51 of 200\n",
      "building tree 52 of 200\n",
      "building tree 53 of 200\n",
      "building tree 54 of 200\n",
      "building tree 55 of 200\n",
      "building tree 56 of 200\n",
      "building tree 57 of 200\n",
      "building tree 58 of 200\n",
      "building tree 59 of 200\n",
      "building tree 60 of 200\n",
      "building tree 61 of 200\n",
      "building tree 62 of 200\n",
      "building tree 63 of 200\n",
      "building tree 64 of 200\n",
      "building tree 65 of 200\n",
      "building tree 66 of 200\n",
      "building tree 67 of 200\n",
      "building tree 68 of 200\n",
      "building tree 69 of 200\n",
      "building tree 70 of 200\n",
      "building tree 71 of 200\n",
      "building tree 72 of 200\n",
      "building tree 73 of 200\n",
      "building tree 74 of 200\n",
      "building tree 75 of 200\n",
      "building tree 76 of 200\n",
      "building tree 77 of 200\n",
      "building tree 78 of 200\n",
      "building tree 79 of 200\n",
      "building tree 80 of 200\n",
      "building tree 81 of 200\n",
      "building tree 82 of 200\n",
      "building tree 83 of 200\n",
      "building tree 84 of 200\n",
      "building tree 85 of 200\n",
      "building tree 86 of 200\n",
      "building tree 87 of 200\n",
      "building tree 88 of 200\n",
      "building tree 89 of 200\n",
      "building tree 90 of 200\n",
      "building tree 91 of 200\n",
      "building tree 92 of 200\n",
      "building tree 93 of 200\n",
      "building tree 94 of 200\n",
      "building tree 95 of 200\n",
      "building tree 96 of 200\n",
      "building tree 97 of 200\n",
      "building tree 98 of 200\n",
      "building tree 99 of 200\n",
      "building tree 100 of 200\n",
      "building tree 101 of 200\n",
      "building tree 102 of 200\n",
      "building tree 103 of 200\n",
      "building tree 104 of 200\n",
      "building tree 105 of 200\n",
      "building tree 106 of 200\n",
      "building tree 107 of 200\n",
      "building tree 108 of 200\n",
      "building tree 109 of 200\n",
      "building tree 110 of 200\n",
      "building tree 111 of 200\n",
      "building tree 112 of 200\n",
      "building tree 113 of 200\n",
      "building tree 114 of 200\n",
      "building tree 115 of 200\n",
      "building tree 116 of 200\n",
      "building tree 117 of 200\n",
      "building tree 118 of 200\n",
      "building tree 119 of 200\n",
      "building tree 120 of 200\n",
      "building tree 121 of 200\n",
      "building tree 122 of 200\n",
      "building tree 123 of 200\n",
      "building tree 124 of 200\n",
      "building tree 125 of 200\n",
      "building tree 126 of 200\n",
      "building tree 127 of 200\n",
      "building tree 128 of 200\n",
      "building tree 129 of 200\n",
      "building tree 130 of 200\n",
      "building tree 131 of 200\n",
      "building tree 132 of 200\n",
      "building tree 133 of 200\n",
      "building tree 134 of 200\n",
      "building tree 135 of 200\n",
      "building tree 136 of 200\n",
      "building tree 137 of 200\n",
      "building tree 138 of 200\n",
      "building tree 139 of 200\n",
      "building tree 140 of 200\n",
      "building tree 141 of 200\n",
      "building tree 142 of 200\n",
      "building tree 143 of 200\n",
      "building tree 144 of 200\n",
      "building tree 145 of 200\n",
      "building tree 146 of 200\n",
      "building tree 147 of 200\n",
      "building tree 148 of 200\n",
      "building tree 149 of 200\n",
      "building tree 150 of 200\n",
      "building tree 151 of 200\n",
      "building tree 152 of 200\n",
      "building tree 153 of 200\n",
      "building tree 154 of 200\n",
      "building tree 155 of 200\n",
      "building tree 156 of 200\n",
      "building tree 157 of 200\n",
      "building tree 158 of 200\n",
      "building tree 159 of 200\n",
      "building tree 160 of 200\n",
      "building tree 161 of 200\n",
      "building tree 162 of 200\n",
      "building tree 163 of 200\n",
      "building tree 164 of 200\n",
      "building tree 165 of 200\n",
      "building tree 166 of 200\n",
      "building tree 167 of 200\n",
      "building tree 168 of 200\n",
      "building tree 169 of 200\n",
      "building tree 170 of 200\n",
      "building tree 171 of 200\n",
      "building tree 172 of 200\n",
      "building tree 173 of 200\n",
      "building tree 174 of 200\n",
      "building tree 175 of 200\n",
      "building tree 176 of 200\n",
      "building tree 177 of 200\n",
      "building tree 178 of 200\n",
      "building tree 179 of 200\n",
      "building tree 180 of 200\n",
      "building tree 181 of 200\n",
      "building tree 182 of 200\n",
      "building tree 183 of 200\n",
      "building tree 184 of 200\n",
      "building tree 185 of 200\n",
      "building tree 186 of 200\n",
      "building tree 187 of 200\n",
      "building tree 188 of 200\n",
      "building tree 189 of 200\n",
      "building tree 190 of 200\n",
      "building tree 191 of 200\n",
      "building tree 192 of 200\n",
      "building tree 193 of 200\n",
      "building tree 194 of 200\n",
      "building tree 195 of 200\n",
      "building tree 196 of 200\n",
      "building tree 197 of 200\n",
      "building tree 198 of 200\n",
      "building tree 199 of 200\n",
      "building tree 200 of 200\n",
      "Temps d'exe de la cellule : 5274.371501207352\n"
     ]
    },
    {
     "name": "stderr",
     "output_type": "stream",
     "text": [
      "[Parallel(n_jobs=1)]: Done 200 out of 200 | elapsed: 87.9min finished\n"
     ]
    }
   ],
   "source": [
    "#Approche Random Forest\n",
    "from sklearn import tree\n",
    "from sklearn.ensemble import RandomForestClassifier\n",
    "start = time.time()\n",
    "with parallel_backend('threading', n_jobs=4):\n",
    "    forest_clf = RandomForestClassifier(n_estimators=200, verbose=3)\n",
    "    forest_clf.fit(X_train, y_train)\n",
    "end = time.time()\n",
    "print(f\"Temps d'exe de la cellule : {end - start}\")"
   ]
  },
  {
   "cell_type": "code",
   "execution_count": 17,
   "id": "1e621ecc-d28b-4cc3-aaed-58487d31839c",
   "metadata": {},
   "outputs": [],
   "source": [
    "# #J'exporte le modèle pour pouvoir le récupérer par la suite sans avoir à reprocess (éventuellement long)...\n",
    "# from pickle import dump\n",
    "# with open('forest_clf.pkl', 'wb') as handle :\n",
    "#     dump(forest_clf, handle)\n",
    "\n",
    "#Commenté pour éviter le lancement par erreur"
   ]
  },
  {
   "cell_type": "code",
   "execution_count": null,
   "id": "f85fe2d2-db14-4d5f-a7cb-c3de571b4072",
   "metadata": {},
   "outputs": [],
   "source": [
    "#Importer depuis le dump pickle\n",
    "with open('forest_clf.pkl', 'rb') as handle :\n",
    "    forest_clf = load(handle)"
   ]
  },
  {
   "cell_type": "code",
   "execution_count": 18,
   "id": "c3cb19da-f486-4ded-9b70-b211d8730ec9",
   "metadata": {},
   "outputs": [
    {
     "name": "stderr",
     "output_type": "stream",
     "text": [
      "[Parallel(n_jobs=1)]: Using backend SequentialBackend with 1 concurrent workers.\n",
      "[Parallel(n_jobs=1)]: Done   1 out of   1 | elapsed:    0.2s remaining:    0.0s\n",
      "[Parallel(n_jobs=1)]: Done   2 out of   2 | elapsed:    0.6s remaining:    0.0s\n"
     ]
    },
    {
     "name": "stdout",
     "output_type": "stream",
     "text": [
      "Précision de du classifier bagging sur le jeu d'entraînement : 1.0\n",
      "Temps d'exe de la cellule : 63.60277271270752\n"
     ]
    },
    {
     "name": "stderr",
     "output_type": "stream",
     "text": [
      "[Parallel(n_jobs=1)]: Done 200 out of 200 | elapsed:  1.0min finished\n"
     ]
    }
   ],
   "source": [
    "import time\n",
    "start = time.time()\n",
    "with parallel_backend('threading', n_jobs=4):\n",
    "    forest_score = forest_clf.score(X_train,y_train)\n",
    "print(f\"Précision de du classifier Forêt alétoire sur le jeu d'entraînement : {forest_score}\")\n",
    "end = time.time()\n",
    "print(f\"Temps d'exe de la cellule : {end - start}\")"
   ]
  },
  {
   "cell_type": "code",
   "execution_count": 19,
   "id": "3cee10ce-4038-4c4f-b3c6-cad6b63d319d",
   "metadata": {},
   "outputs": [
    {
     "name": "stderr",
     "output_type": "stream",
     "text": [
      "[Parallel(n_jobs=1)]: Using backend SequentialBackend with 1 concurrent workers.\n",
      "[Parallel(n_jobs=1)]: Done   1 out of   1 | elapsed:    0.0s remaining:    0.0s\n",
      "[Parallel(n_jobs=1)]: Done   2 out of   2 | elapsed:    0.1s remaining:    0.0s\n",
      "[Parallel(n_jobs=1)]: Done 200 out of 200 | elapsed:   22.5s finished\n",
      "[Parallel(n_jobs=1)]: Using backend SequentialBackend with 1 concurrent workers.\n",
      "[Parallel(n_jobs=1)]: Done   1 out of   1 | elapsed:    0.0s remaining:    0.0s\n",
      "[Parallel(n_jobs=1)]: Done   2 out of   2 | elapsed:    0.2s remaining:    0.0s\n"
     ]
    },
    {
     "name": "stdout",
     "output_type": "stream",
     "text": [
      "Précision du classifier bagging sur les données de test : 0.953245\n",
      "Temps d'exe de la cellule : 45.86902666091919\n"
     ]
    },
    {
     "name": "stderr",
     "output_type": "stream",
     "text": [
      "[Parallel(n_jobs=1)]: Done 200 out of 200 | elapsed:   22.2s finished\n"
     ]
    }
   ],
   "source": [
    "start = time.time()\n",
    "with parallel_backend('threading', n_jobs=4):\n",
    "    pred =forest_clf.predict(X_test)\n",
    "end = time.time()\n",
    "print(f\"Temps d'exe de la cellule : {end - start}\")"
   ]
  },
  {
   "cell_type": "code",
   "execution_count": 20,
   "id": "acaa7f26-29aa-42bb-aadc-8e9b3b23785b",
   "metadata": {},
   "outputs": [
    {
     "name": "stdout",
     "output_type": "stream",
     "text": [
      "Matrice de confusion : [[0.479565 0.020435]\n",
      " [0.02632  0.47368 ]]\n",
      "Sensibilité : 0.94736\n",
      "Spécificité : 0.95913\n",
      "Valeur prédictive positive : 0.9586432308268318\n",
      "Valeur prédictive négative : 0.9479723652608795\n",
      "Taux de faux positifs (1-spécificité) : 0.04087\n",
      "Taux de faux négatifs (1-sensbilité) : 0.05264\n",
      "Taux de précision : 0.953245\n"
     ]
    }
   ],
   "source": [
    "cf_matrix = confusion_matrix(y_test, pred)\n",
    "vn, fp, fn, vp = cf_matrix.ravel()\n",
    "print(f\"Matrice de confusion : {cf_matrix/np.sum(cf_matrix)}\")\n",
    "print(f\"Sensibilité : {vp/(vp+fn)}\")\n",
    "print(f\"Spécificité : {vn/(vn+fp)}\")\n",
    "print(f\"Valeur prédictive positive : {vp/(vp+fp)}\")\n",
    "print(f\"Valeur prédictive négative : {vn/(vn+fn)}\")\n",
    "print(f\"Taux de faux positifs (1-spécificité) : {fp/(vn+fp)}\")\n",
    "print(f\"Taux de faux négatifs (1-sensbilité) : {fn/(vp+fn)}\")\n",
    "\n",
    "# Lecture : \n",
    "# Vrai négatif, Faux positif\n",
    "# Faux négatif, Vrai positif\n",
    "print(f\"Taux de précision : {(cf_matrix[0][0]+cf_matrix[1][1])/np.sum(cf_matrix)}\")\n",
    "\n",
    "#On a un taux de précision d'environ 95% avec les forêts aléatoires : on reste proche de ce qu'on trouvait pour le bagging\n",
    "#On pourrait faire à peu près le même commentaire que dans le cadre du bagging..."
   ]
  },
  {
   "cell_type": "markdown",
   "id": "97db4160-9f8b-4533-bc0e-0b07badb370d",
   "metadata": {},
   "source": [
    "## Approche plus proches voisins (K-nearest-neighbors)"
   ]
  },
  {
   "cell_type": "code",
   "execution_count": 12,
   "id": "3c7d511c-04ee-4d7b-a6f8-29b8b41ea9dd",
   "metadata": {},
   "outputs": [],
   "source": [
    "#KNN\n",
    "# Créer et entraîner un classifier de type nearest-neighbor -> très lourd avec 2381 descripteurs, il serait souhaitable de procéder à une sélection en amont ?\n",
    "from sklearn.neighbors import KNeighborsClassifier\n",
    "knn = KNeighborsClassifier()"
   ]
  },
  {
   "cell_type": "code",
   "execution_count": 13,
   "id": "fbbeb708-7ec1-4865-972b-e2812d2444ff",
   "metadata": {},
   "outputs": [
    {
     "name": "stdout",
     "output_type": "stream",
     "text": [
      "Temps d'exe de la cellule : 1.314117193222046\n"
     ]
    }
   ],
   "source": [
    "start = time.time()\n",
    "knn.fit(X_train_std,y_train)\n",
    "end = time.time()\n",
    "print(f\"Temps d'exe de la cellule : {end - start}\")"
   ]
  },
  {
   "cell_type": "code",
   "execution_count": 12,
   "id": "9449c1d0-f5cb-4472-aa7a-8b8192aa8c1e",
   "metadata": {},
   "outputs": [
    {
     "name": "stdout",
     "output_type": "stream",
     "text": [
      "Précision sur l'échantillon d'entraînement standardisé : 0.9668366666666667\n",
      "Temps d'exe de la cellule : 42472.25880599022\n"
     ]
    }
   ],
   "source": [
    "start = time.time()\n",
    "with parallel_backend('threading', n_jobs=4):\n",
    "    score_knn = knn.score(X_train_std, y_train)\n",
    "print(f\"Précision sur l'échantillon d'entraînement standardisé : {score_knn}\")\n",
    "end = time.time()\n",
    "print(f\"Temps d'exe de la cellule : {end - start}\")"
   ]
  },
  {
   "cell_type": "markdown",
   "id": "d4f9faa8-301c-4b4d-9ce9-3cd57be49d3e",
   "metadata": {},
   "source": [
    "11 heures d'entraînement pour KNN, une précision de 96,6 % sur les données qui ont servi à la construction"
   ]
  },
  {
   "cell_type": "code",
   "execution_count": 14,
   "id": "f83494f4-d7e9-45d6-af99-4d6da1498432",
   "metadata": {},
   "outputs": [
    {
     "name": "stdout",
     "output_type": "stream",
     "text": [
      "Temps d'exe de la cellule : 11695.230863332748\n"
     ]
    }
   ],
   "source": [
    "start = time.time()\n",
    "with parallel_backend('threading', n_jobs=4):\n",
    "    pred_proba = knn.predict_proba(X_test_std)\n",
    "end = time.time()\n",
    "print(f\"Temps d'exe de la cellule : {end - start}\")\n",
    "# Très gros temps de calcul"
   ]
  },
  {
   "cell_type": "markdown",
   "id": "fadb69fb-caf7-4e1c-b4bc-5d0cfaf441e5",
   "metadata": {},
   "source": [
    "4 heures de calcul pour prédire les valeurs de test"
   ]
  },
  {
   "cell_type": "code",
   "execution_count": 16,
   "id": "9f7b353b-8863-4c93-a39e-d81f45dba279",
   "metadata": {},
   "outputs": [],
   "source": [
    "# #Sauvegarde des probas de prédictions\n",
    "# np.savetxt('prediction_proba_KNN.csv',pred_proba,delimiter=',')\n",
    "\n",
    "# #Commenté pour éviter le lancement par erreur"
   ]
  },
  {
   "cell_type": "code",
   "execution_count": 22,
   "id": "80c6d1d1-46c1-4649-835d-6d461a6190dd",
   "metadata": {},
   "outputs": [],
   "source": [
    "# #Chargement des prédictions sauvegardées\n",
    "# pred = np.genfromtxt('prediction_KNN.csv', delimiter=',')\n",
    "# #Commenté pour éviter le lancement par erreur"
   ]
  },
  {
   "cell_type": "code",
   "execution_count": 16,
   "id": "cacee522-21c6-4b8d-ac41-fd09d7760c14",
   "metadata": {},
   "outputs": [
    {
     "name": "stdout",
     "output_type": "stream",
     "text": [
      "Matrice de confusion : [[0.46445 0.03555]\n",
      " [0.04635 0.45365]]\n",
      "Sensibilité : 0.9073\n",
      "Spécificité : 0.9289\n",
      "Valeur prédictive positive : 0.9273303352412101\n",
      "Valeur prédictive négative : 0.9092599843382929\n",
      "Taux de faux positifs (1-spécificité) : 0.0711\n",
      "Taux de faux négatifs (1-sensbilité) : 0.0927\n",
      "Taux de précision : 0.9181\n",
      "Taux de précision : 0.9181\n"
     ]
    }
   ],
   "source": [
    "from sklearn.metrics import confusion_matrix\n",
    "cf_matrix = confusion_matrix(y_test, pred)\n",
    "vn, fp, fn, vp = cf_matrix.ravel()\n",
    "print(f\"Matrice de confusion : {cf_matrix/np.sum(cf_matrix)}\")\n",
    "print(f\"Sensibilité : {vp/(vp+fn)}\")\n",
    "print(f\"Spécificité : {vn/(vn+fp)}\")\n",
    "print(f\"Valeur prédictive positive : {vp/(vp+fp)}\")\n",
    "print(f\"Valeur prédictive négative : {vn/(vn+fn)}\")\n",
    "print(f\"Taux de faux positifs (1-spécificité) : {fp/(vn+fp)}\")\n",
    "print(f\"Taux de faux négatifs (1-sensbilité) : {fn/(vp+fn)}\")\n",
    "# Lecture matrice de confusion : \n",
    "# Vrai négatif, Faux positif\n",
    "# Faux négatif, Vrai positif\n",
    "print(f\"Taux de précision : {(cf_matrix[0][0]+cf_matrix[1][1])/np.sum(cf_matrix)}\")\n",
    "# Perfs décevantes par rapport aux autres approches..."
   ]
  },
  {
   "cell_type": "markdown",
   "id": "986bd75c-c556-4a8d-a471-e67140a14844",
   "metadata": {},
   "source": [
    "Matrice de confusion : \n",
    "\n",
    "| Prédit/Réel | Négatif | Positif |\n",
    "|---|---|---|\n",
    "| Négatif | 0.46445 | 0.03555 |\n",
    "| Positif | 0.04635 | 0.45365 |\n",
    "\n",
    "\n",
    "Sensibilité : 0.9073\n",
    "\n",
    "Spécificité : 0.9289\n",
    "\n",
    "Valeur prédictive positive : 0.9273303352412101\n",
    "\n",
    "Valeur prédictive négative : 0.9092599843382929\n",
    "\n",
    "Taux de faux positifs (1-spécificité) : 0.0711\n",
    "\n",
    "Taux de faux négatifs (1-sensbilité) : 0.0927\n",
    "\n",
    "Taux de précision : 0.9181\n",
    "\n",
    "Perfs de 92%, quand même pas mal de faux négatifs (9.2 %) et de faux positifs (7.1%)\n"
   ]
  },
  {
   "cell_type": "markdown",
   "id": "081a6d8a-aa72-410c-b26b-59b1d6a256d5",
   "metadata": {},
   "source": [
    "## Approche régression logistique"
   ]
  },
  {
   "cell_type": "code",
   "execution_count": 54,
   "id": "a4167f05-8061-48f1-9f5e-342de4c1e2b8",
   "metadata": {},
   "outputs": [
    {
     "name": "stderr",
     "output_type": "stream",
     "text": [
      "[Parallel(n_jobs=4)]: Using backend ThreadingBackend with 4 concurrent workers.\n"
     ]
    },
    {
     "name": "stdout",
     "output_type": "stream",
     "text": [
      "convergence after 115 epochs took 2353 seconds\n",
      "Temps d'exe de la cellule : 2383.7937381267548\n"
     ]
    },
    {
     "name": "stderr",
     "output_type": "stream",
     "text": [
      "[Parallel(n_jobs=4)]: Done   1 out of   1 | elapsed: 39.2min finished\n"
     ]
    }
   ],
   "source": [
    "#On va utiliser une régression logistique avec saga sur les données scale\n",
    "from sklearn.linear_model import LogisticRegression\n",
    "start = time.time()\n",
    "#Régression linéare avec solver saga, niveau de verbosité à 3\n",
    "#Augmenter max_iter car ne converge pas avec la valeur par défaut à 100\n",
    "with parallel_backend('threading', n_jobs=4):\n",
    "    reg = LogisticRegression(solver='saga', max_iter=1000, verbose = 3)\n",
    "    reg.fit(X_train_std, y_train)\n",
    "end = time.time()\n",
    "print(f\"Temps d'exe de la cellule : {end - start}\")"
   ]
  },
  {
   "cell_type": "code",
   "execution_count": 58,
   "id": "3bc40f7b-d461-4895-be2b-c8fab2e63361",
   "metadata": {},
   "outputs": [],
   "source": [
    "# #J'exporte le modèle saga pour pouvoir le récupérer par la suite sans avoir à relancer le calcul...\n",
    "# from pickle import dump\n",
    "# with open('reg_saga.pkl', 'wb') as handle :\n",
    "#     dump(reg, handle)\n",
    "\n",
    "# # Commenté pour éviter le lancement par erreur"
   ]
  },
  {
   "cell_type": "code",
   "execution_count": null,
   "id": "9672ecbf-e67b-45a7-ba33-49f150f73eb1",
   "metadata": {},
   "outputs": [],
   "source": [
    "# from pickle import load\n",
    "# with open('reg_saga.pkl', 'rb') as handle :\n",
    "#     reg = load(handle)\n",
    "# # Commenté pour éviter le lancement par erreur"
   ]
  },
  {
   "cell_type": "code",
   "execution_count": 55,
   "id": "c82ed250-04c6-4420-bd6d-20592e7ace40",
   "metadata": {},
   "outputs": [
    {
     "name": "stdout",
     "output_type": "stream",
     "text": [
      "Accurracy sur les données d'entraînement : 0.8287966666666666\n",
      "Temps d'exe de la cellule : 1.997990369796753\n"
     ]
    }
   ],
   "source": [
    "start = time.time()\n",
    "score_reg = reg.score(X_train_std,y_train)\n",
    "print(f\"Accurracy sur les données d'entraînement : {score_reg}\")\n",
    "end = time.time()\n",
    "print(f\"Temps d'exe de la cellule : {end - start}\")"
   ]
  },
  {
   "cell_type": "code",
   "execution_count": 56,
   "id": "eb19c304-dabb-478b-86d7-56b51bd3e30c",
   "metadata": {},
   "outputs": [
    {
     "name": "stdout",
     "output_type": "stream",
     "text": [
      "Temps d'exe de la cellule : 5.502066373825073\n"
     ]
    }
   ],
   "source": [
    "#Prédiction à partir du modèle\n",
    "start = time.time()\n",
    "with parallel_backend('threading', n_jobs=4):\n",
    "    reg_pred = reg.predict(X_test_std)\n",
    "end = time.time()\n",
    "print(f\"Temps d'exe de la cellule : {end - start}\")"
   ]
  },
  {
   "cell_type": "code",
   "execution_count": 57,
   "id": "4f2991f7-9779-485c-92eb-a05b743142bf",
   "metadata": {},
   "outputs": [
    {
     "name": "stdout",
     "output_type": "stream",
     "text": [
      "Matrice de confusion : [[0.32676 0.17324]\n",
      " [0.05655 0.44345]]\n",
      "Sensibilité : 0.8869\n",
      "Spécificité : 0.65352\n",
      "Valeur prédictive positive : 0.7190808996416351\n",
      "Valeur prédictive négative : 0.8524692807388276\n",
      "Taux de faux positifs (1-spécificité) : 0.34648\n",
      "Taux de faux négatifs (1-sensbilité) : 0.1131\n",
      "Taux de précision : 0.77021\n"
     ]
    }
   ],
   "source": [
    "from sklearn.metrics import confusion_matrix\n",
    "cf_matrix = confusion_matrix(y_test, reg_pred)\n",
    "vn, fp, fn, vp = cf_matrix.ravel()\n",
    "print(f\"Matrice de confusion : {cf_matrix/np.sum(cf_matrix)}\")\n",
    "print(f\"Sensibilité : {vp/(vp+fn)}\")\n",
    "print(f\"Spécificité : {vn/(vn+fp)}\")\n",
    "print(f\"Valeur prédictive positive : {vp/(vp+fp)}\")\n",
    "print(f\"Valeur prédictive négative : {vn/(vn+fn)}\")\n",
    "print(f\"Taux de faux positifs (1-spécificité) : {fp/(vn+fp)}\")\n",
    "print(f\"Taux de faux négatifs (1-sensbilité) : {fn/(vp+fn)}\")\n",
    "\n",
    "# Lecture : \n",
    "# Vrai négatif, Faux positif\n",
    "# Faux négatif, Vrai positif\n",
    "print(f\"Taux de précision : {(cf_matrix[0][0]+cf_matrix[1][1])/np.sum(cf_matrix)}\")\n",
    "# Perfs : 77% de précision, c'est pas génial pour de la détection de malware et inutilisable en pratique...\n",
    "#En fait, on a beaucoup (trop) de faux positifs... C'est bof aussi au niveau des faux négatifs..."
   ]
  },
  {
   "cell_type": "markdown",
   "id": "0b62abf2-c8f9-46af-8eac-fdf61242f682",
   "metadata": {},
   "source": [
    "## Approche SVM (abandonnée)"
   ]
  },
  {
   "cell_type": "code",
   "execution_count": 8,
   "id": "a31dcd78-49a5-4254-a297-0dcbe6105c80",
   "metadata": {},
   "outputs": [
    {
     "name": "stdout",
     "output_type": "stream",
     "text": [
      "Nombre d'observations après tirage aléatoire : 50000\n"
     ]
    }
   ],
   "source": [
    "#On va prendre un subset des données d'entraînement : 600K c'est trop lourd pour ma \"petite bécane\" pour une approche comme SVM, on sélectionne un échantillon de 50K observations\n",
    "tirage = np.random.choice(600000,50000,replace=False)\n",
    "X_train_sub_std, y_train_sub = X_train_std[tirage], y_train[tirage]\n",
    "print(f\"Nombre d'observations après tirage aléatoire : {np.size(X_train_sub_std,0)}\")"
   ]
  },
  {
   "cell_type": "code",
   "execution_count": 9,
   "id": "5414185b-db33-4f34-8820-2167c558bc32",
   "metadata": {},
   "outputs": [],
   "source": [
    "# #Sélection de features par SelectKBest\n",
    "# from sklearn.feature_selection import SelectKBest, mutual_info_classif\n",
    "# start = time.time()\n",
    "# #Sélection des 100 top  features basée sur mutual info regression\n",
    "# selector = SelectKBest(mutual_info_classif, k=100)\n",
    "# selector.fit(X_train_sub_std, y_train)\n",
    "# end = time.time()\n",
    "# print(f\"Temps d'exe de la cellule : {end - start}\")"
   ]
  },
  {
   "cell_type": "code",
   "execution_count": 9,
   "id": "77cac267-c252-4348-b191-355026f021d5",
   "metadata": {},
   "outputs": [
    {
     "name": "stdout",
     "output_type": "stream",
     "text": [
      "[LibSVM]Temps d'exe de la cellule : 1750.352676153183\n"
     ]
    }
   ],
   "source": [
    "# Classifier de type SVM\n",
    "from sklearn import svm\n",
    "start = time.time()\n",
    "svm_clf = svm.SVC(verbose=3)\n",
    "svm_clf.fit(X_train_sub_std, y_train_sub)\n",
    "end = time.time()\n",
    "print(f\"Temps d'exe de la cellule : {end - start}\")"
   ]
  },
  {
   "cell_type": "code",
   "execution_count": null,
   "id": "1ec6c44b-3074-4c73-8f58-4657d96c8693",
   "metadata": {},
   "outputs": [],
   "source": [
    "#J'exporte le modèle pour pouvoir le récupérer par la suite sans avoir à reprocess (éventuellement long)...\n",
    "from pickle import dump\n",
    "with open('svm_clf.pkl', 'wb') as handle :\n",
    "    dump(svm_clf, handle)\n",
    "\n",
    "#Commenté pour éviter le lancement par erreur"
   ]
  },
  {
   "cell_type": "code",
   "execution_count": null,
   "id": "332df6ba-3846-4033-b8fd-3e57e23b7221",
   "metadata": {},
   "outputs": [],
   "source": [
    "#Importer depuis le dump pickle\n",
    "from pickle import load\n",
    "with open('svm_clf.pkl', 'rb') as handle :\n",
    "    svm_clf = load(handle)"
   ]
  },
  {
   "cell_type": "code",
   "execution_count": null,
   "id": "09920eb9-3a44-451a-864f-daefd7a1c2b1",
   "metadata": {},
   "outputs": [],
   "source": [
    "start = time.time()\n",
    "print(f\"Précision sur les données d'entraînement : {svm_clf.score(X_train_sub_std,y_train)}\")\n",
    "end = time.time()\n",
    "print(f\"Temps d'exe de la cellule : {end - start}\")"
   ]
  },
  {
   "cell_type": "code",
   "execution_count": null,
   "id": "07deedb9-0d7b-4a4f-bf90-eb3f1f9589c0",
   "metadata": {},
   "outputs": [],
   "source": [
    "#Prédiction à partir du modèle\n",
    "start = time.time()\n",
    "svm_pred = svm_clf.predict(X_test_std)\n",
    "end = time.time()\n",
    "print(f\"Temps d'exe de la cellule : {end - start}\")"
   ]
  },
  {
   "cell_type": "code",
   "execution_count": null,
   "id": "86a0a6a0-c1f8-4027-9662-766a9f3c5e25",
   "metadata": {},
   "outputs": [],
   "source": [
    "cf_matrix = confusion_matrix(y_test, svm_pred)\n",
    "vn, fp, fn, vp = cf_matrix.ravel()\n",
    "print(f\"Matrice de confusion : {cf_matrix/np.sum(cf_matrix)}\")\n",
    "print(f\"Sensibilité : {vp/(vp+fn)}\")\n",
    "print(f\"Spécificité : {vn/(vn+fp)}\")\n",
    "print(f\"Valeur prédictive positive : {vp/(vp+fp)}\")\n",
    "print(f\"Valeur prédictive négative : {vn/(vn+fn)}\")\n",
    "print(f\"Taux de faux positifs (1-spécificité) : {fp/(vn+fp)}\")\n",
    "print(f\"Taux de faux négatifs (1-sensbilité) : {fn/(vp+fn)}\")\n",
    "\n",
    "# Lecture : \n",
    "# Vrai négatif, Faux positif\n",
    "# Faux négatif, Vrai positif\n",
    "print(f\"Taux de précision : {(cf_matrix[0][0]+cf_matrix[1][1])/np.sum(cf_matrix)}\")"
   ]
  },
  {
   "cell_type": "markdown",
   "id": "f1e1d213-0e17-4711-b0b2-7b4191dc030c",
   "metadata": {},
   "source": [
    "## Bonus : Random Forest avec profondeur limitée à 50"
   ]
  },
  {
   "cell_type": "code",
   "execution_count": 39,
   "id": "1c749ad4-4d0f-4f12-9a0d-956431ad9c27",
   "metadata": {},
   "outputs": [
    {
     "name": "stderr",
     "output_type": "stream",
     "text": [
      "[Parallel(n_jobs=4)]: Using backend ThreadingBackend with 4 concurrent workers.\n"
     ]
    },
    {
     "name": "stdout",
     "output_type": "stream",
     "text": [
      "building tree 1 of 200\n",
      "building tree 2 of 200\n",
      "building tree 3 of 200\n",
      "building tree 4 of 200\n",
      "building tree 5 of 200\n",
      "building tree 6 of 200\n",
      "building tree 7 of 200\n",
      "building tree 8 of 200\n",
      "building tree 9 of 200\n",
      "building tree 10 of 200\n",
      "building tree 11 of 200\n",
      "building tree 12 of 200\n",
      "building tree 13 of 200\n",
      "building tree 14 of 200\n",
      "building tree 15 of 200\n",
      "building tree 16 of 200\n",
      "building tree 17 of 200\n",
      "building tree 18 of 200\n",
      "building tree 19 of 200\n",
      "building tree 20 of 200\n",
      "building tree 21 of 200\n",
      "building tree 22 of 200\n",
      "building tree 23 of 200\n",
      "building tree 24 of 200\n",
      "building tree 25 of 200\n",
      "building tree 26 of 200\n",
      "building tree 27 of 200\n"
     ]
    },
    {
     "name": "stderr",
     "output_type": "stream",
     "text": [
      "[Parallel(n_jobs=4)]: Done  24 tasks      | elapsed:  3.8min\n"
     ]
    },
    {
     "name": "stdout",
     "output_type": "stream",
     "text": [
      "building tree 28 of 200\n",
      "building tree 29 of 200\n",
      "building tree 30 of 200\n",
      "building tree 31 of 200\n",
      "building tree 32 of 200\n",
      "building tree 33 of 200\n",
      "building tree 34 of 200\n",
      "building tree 35 of 200\n",
      "building tree 36 of 200\n",
      "building tree 37 of 200\n",
      "building tree 38 of 200\n",
      "building tree 39 of 200\n",
      "building tree 40 of 200\n",
      "building tree 41 of 200\n",
      "building tree 42 of 200\n",
      "building tree 43 of 200\n",
      "building tree 44 of 200\n",
      "building tree 45 of 200\n",
      "building tree 46 of 200\n",
      "building tree 47 of 200\n",
      "building tree 48 of 200\n",
      "building tree 49 of 200\n",
      "building tree 50 of 200\n",
      "building tree 51 of 200\n",
      "building tree 52 of 200\n",
      "building tree 53 of 200\n",
      "building tree 54 of 200\n",
      "building tree 55 of 200\n",
      "building tree 56 of 200\n",
      "building tree 57 of 200\n",
      "building tree 58 of 200\n",
      "building tree 59 of 200\n",
      "building tree 60 of 200\n",
      "building tree 61 of 200\n",
      "building tree 62 of 200\n",
      "building tree 63 of 200\n",
      "building tree 64 of 200\n",
      "building tree 65 of 200\n",
      "building tree 66 of 200\n",
      "building tree 67 of 200\n",
      "building tree 68 of 200\n",
      "building tree 69 of 200\n",
      "building tree 70 of 200\n",
      "building tree 71 of 200\n",
      "building tree 72 of 200\n",
      "building tree 73 of 200\n",
      "building tree 74 of 200\n",
      "building tree 75 of 200\n",
      "building tree 76 of 200\n",
      "building tree 77 of 200\n",
      "building tree 78 of 200\n",
      "building tree 79 of 200\n",
      "building tree 80 of 200\n",
      "building tree 81 of 200\n",
      "building tree 82 of 200\n",
      "building tree 83 of 200\n",
      "building tree 84 of 200\n",
      "building tree 85 of 200\n",
      "building tree 86 of 200\n",
      "building tree 87 of 200\n",
      "building tree 88 of 200\n",
      "building tree 89 of 200\n",
      "building tree 90 of 200\n",
      "building tree 91 of 200\n",
      "building tree 92 of 200\n",
      "building tree 93 of 200\n",
      "building tree 94 of 200\n",
      "building tree 95 of 200\n",
      "building tree 96 of 200\n",
      "building tree 97 of 200\n",
      "building tree 98 of 200\n",
      "building tree 99 of 200\n",
      "building tree 100 of 200\n",
      "building tree 101 of 200\n",
      "building tree 102 of 200\n",
      "building tree 103 of 200\n",
      "building tree 104 of 200\n",
      "building tree 105 of 200\n",
      "building tree 106 of 200\n",
      "building tree 107 of 200\n",
      "building tree 108 of 200\n",
      "building tree 109 of 200\n",
      "building tree 110 of 200\n",
      "building tree 111 of 200\n",
      "building tree 112 of 200\n",
      "building tree 113 of 200\n",
      "building tree 114 of 200\n",
      "building tree 115 of 200\n",
      "building tree 116 of 200\n",
      "building tree 117 of 200\n",
      "building tree 118 of 200\n",
      "building tree 119 of 200\n",
      "building tree 120 of 200\n",
      "building tree 121 of 200\n",
      "building tree 122 of 200\n",
      "building tree 123 of 200\n",
      "building tree 124 of 200\n"
     ]
    },
    {
     "name": "stderr",
     "output_type": "stream",
     "text": [
      "[Parallel(n_jobs=4)]: Done 120 tasks      | elapsed: 19.9min\n"
     ]
    },
    {
     "name": "stdout",
     "output_type": "stream",
     "text": [
      "building tree 125 of 200\n",
      "building tree 126 of 200\n",
      "building tree 127 of 200\n",
      "building tree 128 of 200\n",
      "building tree 129 of 200\n",
      "building tree 130 of 200\n",
      "building tree 131 of 200\n",
      "building tree 132 of 200\n",
      "building tree 133 of 200\n",
      "building tree 134 of 200\n",
      "building tree 135 of 200\n",
      "building tree 136 of 200\n",
      "building tree 137 of 200\n",
      "building tree 138 of 200\n",
      "building tree 139 of 200\n",
      "building tree 140 of 200\n",
      "building tree 141 of 200\n",
      "building tree 142 of 200\n",
      "building tree 143 of 200\n",
      "building tree 144 of 200\n",
      "building tree 145 of 200\n",
      "building tree 146 of 200\n",
      "building tree 147 of 200\n",
      "building tree 148 of 200\n",
      "building tree 149 of 200\n",
      "building tree 150 of 200\n",
      "building tree 151 of 200\n",
      "building tree 152 of 200\n",
      "building tree 153 of 200\n",
      "building tree 154 of 200\n",
      "building tree 155 of 200\n",
      "building tree 156 of 200\n",
      "building tree 157 of 200\n",
      "building tree 158 of 200\n",
      "building tree 159 of 200\n",
      "building tree 160 of 200\n",
      "building tree 161 of 200\n",
      "building tree 162 of 200\n",
      "building tree 163 of 200\n",
      "building tree 164 of 200\n",
      "building tree 165 of 200\n",
      "building tree 166 of 200\n",
      "building tree 167 of 200\n",
      "building tree 168 of 200\n",
      "building tree 169 of 200\n",
      "building tree 170 of 200\n",
      "building tree 171 of 200\n",
      "building tree 172 of 200\n",
      "building tree 173 of 200\n",
      "building tree 174 of 200\n",
      "building tree 175 of 200\n",
      "building tree 176 of 200\n",
      "building tree 177 of 200\n",
      "building tree 178 of 200\n",
      "building tree 179 of 200\n",
      "building tree 180 of 200\n",
      "building tree 181 of 200\n",
      "building tree 182 of 200\n",
      "building tree 183 of 200\n",
      "building tree 184 of 200\n",
      "building tree 185 of 200\n",
      "building tree 186 of 200\n",
      "building tree 187 of 200\n",
      "building tree 188 of 200\n",
      "building tree 189 of 200\n",
      "building tree 190 of 200\n",
      "building tree 191 of 200\n",
      "building tree 192 of 200\n",
      "building tree 193 of 200\n",
      "building tree 194 of 200\n",
      "building tree 195 of 200\n",
      "building tree 196 of 200\n",
      "building tree 197 of 200\n",
      "building tree 198 of 200\n",
      "building tree 199 of 200\n",
      "building tree 200 of 200\n",
      "Temps d'exe de la cellule : 1965.2474839687347\n"
     ]
    },
    {
     "name": "stderr",
     "output_type": "stream",
     "text": [
      "[Parallel(n_jobs=4)]: Done 200 out of 200 | elapsed: 32.7min finished\n"
     ]
    }
   ],
   "source": [
    "#Approche Random Forest\n",
    "from sklearn import tree\n",
    "from sklearn.ensemble import RandomForestClassifier\n",
    "start = time.time()\n",
    "with parallel_backend('threading', n_jobs=4):\n",
    "    forest_plus_clf = RandomForestClassifier(n_estimators=200, max_depth=50,  verbose=3)\n",
    "    forest_plus_clf.fit(X_train, y_train)\n",
    "end = time.time()\n",
    "print(f\"Temps d'exe de la cellule : {end - start}\")\n",
    "# bootstrap=True, max_samples=1/3,"
   ]
  },
  {
   "cell_type": "code",
   "execution_count": 43,
   "id": "6eb7bc67-8315-4765-80b6-0720092d98a7",
   "metadata": {},
   "outputs": [],
   "source": [
    "#J'exporte le modèle pour pouvoir le récupérer par la suite sans avoir à reprocess (éventuellement long)...\n",
    "\n",
    "with open('forest_plus_clf.pkl', 'wb') as handle :\n",
    "    dump(forest_plus_clf, handle)\n",
    "\n",
    "#Commenté pour éviter le lancement par erreur"
   ]
  },
  {
   "cell_type": "code",
   "execution_count": 26,
   "id": "43c6f9aa-2bc1-419a-95e2-aa4c4b4c703a",
   "metadata": {},
   "outputs": [],
   "source": [
    "#Importer depuis le dump pickle\n",
    "with open('forest_plus_clf.pkl', 'rb') as handle :\n",
    "    forest_plus_clf = load(handle)"
   ]
  },
  {
   "cell_type": "code",
   "execution_count": 40,
   "id": "def0b063-b8f9-44d5-812f-07db21704d8e",
   "metadata": {},
   "outputs": [
    {
     "name": "stderr",
     "output_type": "stream",
     "text": [
      "[Parallel(n_jobs=4)]: Using backend ThreadingBackend with 4 concurrent workers.\n",
      "[Parallel(n_jobs=4)]: Done  24 tasks      | elapsed:    3.4s\n",
      "[Parallel(n_jobs=4)]: Done 120 tasks      | elapsed:   17.4s\n"
     ]
    },
    {
     "name": "stdout",
     "output_type": "stream",
     "text": [
      "Accuracy du classifier Forêt alétoire sur le jeu d'entraînement : 0.99999\n",
      "Temps d'exe de la cellule : 30.82383441925049\n"
     ]
    },
    {
     "name": "stderr",
     "output_type": "stream",
     "text": [
      "[Parallel(n_jobs=4)]: Done 200 out of 200 | elapsed:   29.2s finished\n"
     ]
    }
   ],
   "source": [
    "import time\n",
    "start = time.time()\n",
    "with parallel_backend('threading', n_jobs=4):\n",
    "    forest_plus_score = forest_plus_clf.score(X_train,y_train)\n",
    "print(f\"Accuracy du classifier Forêt alétoire sur le jeu d'entraînement : {forest_plus_score}\")\n",
    "end = time.time()\n",
    "print(f\"Temps d'exe de la cellule : {end - start}\")"
   ]
  },
  {
   "cell_type": "code",
   "execution_count": 41,
   "id": "9bc5c79b-ab68-438c-b29e-f18a918ce828",
   "metadata": {},
   "outputs": [
    {
     "name": "stderr",
     "output_type": "stream",
     "text": [
      "[Parallel(n_jobs=4)]: Using backend ThreadingBackend with 4 concurrent workers.\n",
      "[Parallel(n_jobs=4)]: Done  24 tasks      | elapsed:    1.1s\n",
      "[Parallel(n_jobs=4)]: Done 120 tasks      | elapsed:    5.8s\n"
     ]
    },
    {
     "name": "stdout",
     "output_type": "stream",
     "text": [
      "Temps d'exe de la cellule : 10.773161888122559\n"
     ]
    },
    {
     "name": "stderr",
     "output_type": "stream",
     "text": [
      "[Parallel(n_jobs=4)]: Done 200 out of 200 | elapsed:   10.1s finished\n"
     ]
    }
   ],
   "source": [
    "start = time.time()\n",
    "with parallel_backend('threading', n_jobs=4):\n",
    "    pred =forest_plus_clf.predict(X_test)\n",
    "end = time.time()\n",
    "print(f\"Temps d'exe de la cellule : {end - start}\")"
   ]
  },
  {
   "cell_type": "code",
   "execution_count": 42,
   "id": "e71f79ba-2533-4226-a6ca-7fe32b0d0488",
   "metadata": {},
   "outputs": [
    {
     "name": "stdout",
     "output_type": "stream",
     "text": [
      "Matrice de confusion : [[0.47927  0.02073 ]\n",
      " [0.025975 0.474025]]\n",
      "Sensibilité : 0.94805\n",
      "Spécificité : 0.95854\n",
      "Valeur prédictive positive : 0.958100473971966\n",
      "Valeur prédictive négative : 0.9485892982612396\n",
      "Taux de faux positifs (1-spécificité) : 0.04146\n",
      "Taux de faux négatifs (1-sensbilité) : 0.05195\n",
      "Taux de précision : 0.953295\n"
     ]
    }
   ],
   "source": [
    "cf_matrix = confusion_matrix(y_test, pred)\n",
    "vn, fp, fn, vp = cf_matrix.ravel()\n",
    "print(f\"Matrice de confusion : {cf_matrix/np.sum(cf_matrix)}\")\n",
    "print(f\"Sensibilité : {vp/(vp+fn)}\")\n",
    "print(f\"Spécificité : {vn/(vn+fp)}\")\n",
    "print(f\"Valeur prédictive positive : {vp/(vp+fp)}\")\n",
    "print(f\"Valeur prédictive négative : {vn/(vn+fn)}\")\n",
    "print(f\"Taux de faux positifs (1-spécificité) : {fp/(vn+fp)}\")\n",
    "print(f\"Taux de faux négatifs (1-sensbilité) : {fn/(vp+fn)}\")\n",
    "\n",
    "# Lecture : \n",
    "# Vrai négatif, Faux positif\n",
    "# Faux négatif, Vrai positif\n",
    "print(f\"Taux de précision : {(cf_matrix[0][0]+cf_matrix[1][1])/np.sum(cf_matrix)}\")\n",
    "# On obtient vraisemblablement un modèle très proche de celui où on ne limite pas la taille des arbres"
   ]
  },
  {
   "cell_type": "markdown",
   "id": "d9deed72-5b58-4a41-aca6-b6945ef4ddcc",
   "metadata": {},
   "source": [
    "## Comparaison des courbes ROC et AUC des modèles"
   ]
  },
  {
   "cell_type": "code",
   "execution_count": 20,
   "id": "10ebe4c5-2771-4583-acb3-1c72f27b680c",
   "metadata": {},
   "outputs": [
    {
     "name": "stdout",
     "output_type": "stream",
     "text": [
      "Temps d'exe de la cellule : 1.055251121520996\n"
     ]
    }
   ],
   "source": [
    "#Importer les modèles depuis les dump pickles (cette partie a été faite dans un second temps)\n",
    "start = time.time()\n",
    "\n",
    "with open('tree_clf.pkl', 'rb') as handle :\n",
    "    tree_clf = load(handle)\n",
    "    \n",
    "with open('bag_clf.pkl', 'rb') as handle :\n",
    "    bag_clf = load(handle)\n",
    "    \n",
    "with open('forest_clf.pkl', 'rb') as handle :\n",
    "    forest_clf = load(handle)\n",
    "    \n",
    "### Pas de modèle à charger avec KNN, on a directement sauvegardé les prédictions ###\n",
    "\n",
    "with open('reg_saga.pkl', 'rb') as handle :\n",
    "    reg_clf = load(handle)\n",
    "\n",
    "with open('forest_plus_clf.pkl', 'rb') as handle :\n",
    "    forest_plus_clf = load(handle)\n",
    "    \n",
    "end = time.time()\n",
    "print(f\"Temps d'exe de la cellule : {end - start}\")"
   ]
  },
  {
   "cell_type": "code",
   "execution_count": 22,
   "id": "bf4a071c-4f40-4be9-910e-4cf43e5f66fd",
   "metadata": {},
   "outputs": [
    {
     "name": "stderr",
     "output_type": "stream",
     "text": [
      "[Parallel(n_jobs=4)]: Using backend ThreadingBackend with 4 concurrent workers.\n",
      "[Parallel(n_jobs=4)]: Done  24 tasks      | elapsed:    1.2s\n",
      "[Parallel(n_jobs=4)]: Done 120 tasks      | elapsed:    6.2s\n",
      "[Parallel(n_jobs=4)]: Done 200 out of 200 | elapsed:   10.0s finished\n",
      "[Parallel(n_jobs=4)]: Using backend ThreadingBackend with 4 concurrent workers.\n",
      "[Parallel(n_jobs=4)]: Done  24 tasks      | elapsed:    1.1s\n",
      "[Parallel(n_jobs=4)]: Done 120 tasks      | elapsed:    5.6s\n",
      "[Parallel(n_jobs=4)]: Done 200 out of 200 | elapsed:    9.6s finished\n"
     ]
    },
    {
     "name": "stdout",
     "output_type": "stream",
     "text": [
      "Temps d'exe de la cellule : 22.503194093704224\n"
     ]
    }
   ],
   "source": [
    "#Probas de prédiction à partir des modèles\n",
    "from sklearn.metrics import roc_curve\n",
    "\n",
    "import time\n",
    "start = time.time()\n",
    "\n",
    "with parallel_backend('threading', n_jobs=4):\n",
    "    y_pred_tree = tree_clf.predict_proba(X_test)\n",
    "    #y_pred_bag = bag_clf.predict_proba(X_test)\n",
    "    y_pred_forest = forest_clf.predict_proba(X_test)\n",
    "    y_pred_reg = reg_clf.predict_proba(X_test_std)\n",
    "    y_pred_forestplus = forest_plus_clf.predict_proba(X_test)\n",
    "\n",
    "y_pred_knn = np.genfromtxt('prediction_proba_KNN.csv', delimiter=',')\n",
    "    \n",
    "fpr_tree, tpr_tree, thresholds_tree = roc_curve(y_test, y_pred_tree[:,1])\n",
    "fpr_bag, tpr_bag, thresholds_bag = roc_curve(y_test, y_pred_bag[:,1])\n",
    "fpr_forest, tpr_forest, thresholds_forest = roc_curve(y_test, y_pred_forest[:,1])\n",
    "fpr_knn, tpr_knn, thresholds_knn = roc_curve(y_test, y_pred_knn[:,1])\n",
    "fpr_reg, tpr_reg, thresholds_reg = roc_curve(y_test, y_pred_reg[:,1])\n",
    "fpr_forestplus, tpr_forestplus, thresholds_forestplus = roc_curve(y_test, y_pred_forestplus[:,1])\n",
    "\n",
    "end = time.time()\n",
    "print(f\"Temps d'exe de la cellule : {end - start}\")"
   ]
  },
  {
   "cell_type": "code",
   "execution_count": 23,
   "id": "0e12eb93-1b94-40a3-9855-3997446e5d44",
   "metadata": {},
   "outputs": [],
   "source": [
    "# Calcul des auc\n",
    "auc_tree = auc(fpr_tree, tpr_tree)\n",
    "auc_bag = auc(fpr_bag, tpr_bag)\n",
    "auc_forest = auc(fpr_forest, tpr_forest)\n",
    "auc_knn = auc(fpr_knn, tpr_knn)\n",
    "auc_reg = auc(fpr_reg, tpr_reg)\n",
    "auc_forestplus = auc(fpr_forestplus, tpr_forestplus)"
   ]
  },
  {
   "cell_type": "code",
   "execution_count": 24,
   "id": "71199a18-0e92-41f4-ac64-b0022b69a7ad",
   "metadata": {},
   "outputs": [
    {
     "data": {
      "image/png": "[encoded data removed]",
      "text/plain": [
       "<Figure size 432x288 with 1 Axes>"
      ]
     },
     "metadata": {
      "needs_background": "light"
     },
     "output_type": "display_data"
    },
    {
     "data": {
      "image/png": "[encoded data removed]",
      "text/plain": [
       "<Figure size 432x288 with 1 Axes>"
      ]
     },
     "metadata": {
      "needs_background": "light"
     },
     "output_type": "display_data"
    }
   ],
   "source": [
    "plt.figure(1)\n",
    "plt.plot([0, 1], [0, 1], 'k--')\n",
    "plt.plot(fpr_tree, tpr_tree, label='Modèle arbre (aire = {:.3f})'.format(auc_tree))\n",
    "plt.plot(fpr_bag, tpr_bag, label='Modèle bagging tree (aire = {:.3f})'.format(auc_bag))\n",
    "plt.plot(fpr_forest, tpr_forest, label='Modèle forêt aléatoire (aire = {:.3f})'.format(auc_forest))\n",
    "plt.plot(fpr_knn, tpr_knn, label='Modèle K-plus proches voisins (aire = {:.3f})'.format(auc_knn))\n",
    "plt.plot(fpr_reg, tpr_reg, label='Modèle régression logistique (aire = {:.3f})'.format(auc_reg))\n",
    "plt.plot(fpr_forestplus, tpr_forestplus, label='Modèle forêt aléatoire plus (aire = {:.3f})'.format(auc_forestplus))\n",
    "plt.xlabel(' 1 - Spécificité')\n",
    "plt.ylabel('Sensibilité')\n",
    "plt.title('Courbe ROC')\n",
    "plt.legend(loc='best')\n",
    "plt.show()\n",
    "# Zoom sur le coin gauche supérieur\n",
    "plt.figure(2)\n",
    "plt.xlim(0, 0.2)\n",
    "plt.ylim(0.8, 1.15)\n",
    "plt.plot([0, 1], [0, 1], 'k--')\n",
    "plt.plot(fpr_tree, tpr_tree, label='Modèle arbre (aire = {:.3f})'.format(auc_tree))\n",
    "plt.plot(fpr_bag, tpr_bag, label='Modèle bagging tree (aire = {:.3f})'.format(auc_bag))\n",
    "plt.plot(fpr_forest, tpr_forest, label='Modèle forêt aléatoire (aire = {:.3f})'.format(auc_forest))\n",
    "plt.plot(fpr_knn, tpr_knn, label='Modèle K-plus proches voisins (aire = {:.3f})'.format(auc_knn))\n",
    "plt.plot(fpr_reg, tpr_reg, label='Modèle régression logistique (aire = {:.3f})'.format(auc_reg))\n",
    "plt.plot(fpr_forestplus, tpr_forestplus, label='Modèle forêt aléatoire plus (aire = {:.3f})'.format(auc_forestplus))\n",
    "plt.xlabel(' 1 - Spécificité')\n",
    "plt.ylabel('Sensibilité')\n",
    "plt.title('Courbe ROC (zoom coin supérieur gauche)')\n",
    "plt.legend(loc='best')\n",
    "plt.show()"
   ]
  }
 ],
 "metadata": {
  "kernelspec": {
   "display_name": "Python 3 (ipykernel)",
   "language": "python",
   "name": "python3"
  },
  "language_info": {
   "codemirror_mode": {
    "name": "ipython",
    "version": 3
   },
   "file_extension": ".py",
   "mimetype": "text/x-python",
   "name": "python",
   "nbconvert_exporter": "python",
   "pygments_lexer": "ipython3",
   "version": "3.9.7"
  }
 },
 "nbformat": 4,
 "nbformat_minor": 5
}
